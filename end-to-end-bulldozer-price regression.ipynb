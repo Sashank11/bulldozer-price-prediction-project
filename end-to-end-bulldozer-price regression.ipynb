{
 "cells": [
  {
   "cell_type": "markdown",
   "id": "e043fd8b",
   "metadata": {},
   "source": [
    "### Predicting the Sale Price of Bulldozers using ML"
   ]
  },
  {
   "cell_type": "markdown",
   "id": "a1c5328f",
   "metadata": {},
   "source": [
    "## Problem definition\n",
    "  >  how well can we predict the future sale price a bulldozer with prev examples and characterisitics\n",
    "  \n",
    "  "
   ]
  },
  {
   "cell_type": "code",
   "execution_count": 3,
   "id": "6e095399",
   "metadata": {},
   "outputs": [],
   "source": [
    "import numpy as np\n",
    "import pandas as pd\n",
    "import matplotlib.pyplot as plt\n",
    "import sklearn"
   ]
  },
  {
   "cell_type": "code",
   "execution_count": null,
   "id": "d3b7ad7f",
   "metadata": {},
   "outputs": [],
   "source": []
  }
 ],
 "metadata": {
  "kernelspec": {
   "display_name": "Python 3 (ipykernel)",
   "language": "python",
   "name": "python3"
  },
  "language_info": {
   "codemirror_mode": {
    "name": "ipython",
    "version": 3
   },
   "file_extension": ".py",
   "mimetype": "text/x-python",
   "name": "python",
   "nbconvert_exporter": "python",
   "pygments_lexer": "ipython3",
   "version": "3.9.12"
  }
 },
 "nbformat": 4,
 "nbformat_minor": 5
}
