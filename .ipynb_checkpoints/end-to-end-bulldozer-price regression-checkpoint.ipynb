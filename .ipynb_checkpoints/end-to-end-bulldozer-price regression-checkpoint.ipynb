{
 "cells": [
  {
   "cell_type": "markdown",
   "id": "59f302a3",
   "metadata": {},
   "source": [
    "### Predicting the Sale Price of Bulldozers using ML"
   ]
  },
  {
   "cell_type": "markdown",
   "id": "e0e64333",
   "metadata": {},
   "source": [
    "## 1. Problem definition\n",
    "  >  how well can we predict the future sale price a bulldozer with prev examples and characterisitics\n",
    "  \n",
    "## 2. Data\n",
    "The data is downloaded from kaggle bluebook for bulldozer competition.\n",
    "    https://www.kaggle.com/c/bluebook-for-bulldozers\n",
    "    \n",
    "There are 3 main datasets:\n",
    "\n",
    "Train.csv is the training set, which contains data through the end of 2011.\n",
    "    \n",
    "Valid.csv is the validation set, which contains data from January 1, 2012 - April 30, 2012 You make predictions on this set throughout the majority of the competition. Your score on this set is used to create the public leaderboard.\n",
    "    \n",
    "Test.csv is the test set, which won't be released until the last week of the competition. It contains data from May 1, 2012 - November 2012. Your score on the test set determines your final rank for the competition.\n",
    "    \n",
    "## 3. Evaluation\n",
    "The evaluation metric for this competition is the RMSLE (root mean squared log error) between the actual and predicted auction prices.\n",
    "\n",
    "**Note:** The goal for most regression evaluation metrics is to minimize the error\n",
    "\n",
    "## 4. Features\n",
    "Kaggle provides a data dictionary detailing all of the features of the dataset.(Available in the data folder)"
   ]
  },
  {
   "cell_type": "code",
   "execution_count": 3,
   "id": "6e095399",
   "metadata": {},
   "outputs": [],
   "source": [
    "import numpy as np\n",
    "import pandas as pd\n",
    "import matplotlib.pyplot as plt\n",
    "import sklearn"
   ]
  },
  {
   "cell_type": "code",
   "execution_count": null,
   "id": "d3b7ad7f",
   "metadata": {},
   "outputs": [],
   "source": []
  }
 ],
 "metadata": {
  "kernelspec": {
   "display_name": "Python 3 (ipykernel)",
   "language": "python",
   "name": "python3"
  },
  "language_info": {
   "codemirror_mode": {
    "name": "ipython",
    "version": 3
   },
   "file_extension": ".py",
   "mimetype": "text/x-python",
   "name": "python",
   "nbconvert_exporter": "python",
   "pygments_lexer": "ipython3",
   "version": "3.9.12"
  }
 },
 "nbformat": 4,
 "nbformat_minor": 5
}
